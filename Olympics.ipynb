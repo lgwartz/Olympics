{
 "cells": [
  {
   "cell_type": "code",
   "execution_count": 18,
   "id": "c1a22044",
   "metadata": {},
   "outputs": [],
   "source": [
    "import pandas as pd\n",
    "import numpy as np\n",
    "import seaborn as sns\n",
    "import matplotlib.pyplot as plp\n",
    "%matplotlib inline"
   ]
  },
  {
   "cell_type": "code",
   "execution_count": 19,
   "id": "168022f4",
   "metadata": {},
   "outputs": [],
   "source": [
    "winter = pd.read_csv('winter.csv')\n",
    "summer = pd.read_csv('summer.csv')"
   ]
  },
  {
   "cell_type": "code",
   "execution_count": 20,
   "id": "5b41d0bc",
   "metadata": {},
   "outputs": [
    {
     "data": {
      "text/html": [
       "<div>\n",
       "<style scoped>\n",
       "    .dataframe tbody tr th:only-of-type {\n",
       "        vertical-align: middle;\n",
       "    }\n",
       "\n",
       "    .dataframe tbody tr th {\n",
       "        vertical-align: top;\n",
       "    }\n",
       "\n",
       "    .dataframe thead th {\n",
       "        text-align: right;\n",
       "    }\n",
       "</style>\n",
       "<table border=\"1\" class=\"dataframe\">\n",
       "  <thead>\n",
       "    <tr style=\"text-align: right;\">\n",
       "      <th></th>\n",
       "      <th>Year</th>\n",
       "      <th>City</th>\n",
       "      <th>Sport</th>\n",
       "      <th>Discipline</th>\n",
       "      <th>Athlete</th>\n",
       "      <th>Country</th>\n",
       "      <th>Gender</th>\n",
       "      <th>Event</th>\n",
       "      <th>Medal</th>\n",
       "    </tr>\n",
       "  </thead>\n",
       "  <tbody>\n",
       "    <tr>\n",
       "      <th>0</th>\n",
       "      <td>1924</td>\n",
       "      <td>Chamonix</td>\n",
       "      <td>Biathlon</td>\n",
       "      <td>Biathlon</td>\n",
       "      <td>BERTHET, G.</td>\n",
       "      <td>FRA</td>\n",
       "      <td>Men</td>\n",
       "      <td>Military Patrol</td>\n",
       "      <td>Bronze</td>\n",
       "    </tr>\n",
       "    <tr>\n",
       "      <th>1</th>\n",
       "      <td>1924</td>\n",
       "      <td>Chamonix</td>\n",
       "      <td>Biathlon</td>\n",
       "      <td>Biathlon</td>\n",
       "      <td>MANDRILLON, C.</td>\n",
       "      <td>FRA</td>\n",
       "      <td>Men</td>\n",
       "      <td>Military Patrol</td>\n",
       "      <td>Bronze</td>\n",
       "    </tr>\n",
       "    <tr>\n",
       "      <th>2</th>\n",
       "      <td>1924</td>\n",
       "      <td>Chamonix</td>\n",
       "      <td>Biathlon</td>\n",
       "      <td>Biathlon</td>\n",
       "      <td>MANDRILLON, Maurice</td>\n",
       "      <td>FRA</td>\n",
       "      <td>Men</td>\n",
       "      <td>Military Patrol</td>\n",
       "      <td>Bronze</td>\n",
       "    </tr>\n",
       "    <tr>\n",
       "      <th>3</th>\n",
       "      <td>1924</td>\n",
       "      <td>Chamonix</td>\n",
       "      <td>Biathlon</td>\n",
       "      <td>Biathlon</td>\n",
       "      <td>VANDELLE, André</td>\n",
       "      <td>FRA</td>\n",
       "      <td>Men</td>\n",
       "      <td>Military Patrol</td>\n",
       "      <td>Bronze</td>\n",
       "    </tr>\n",
       "    <tr>\n",
       "      <th>4</th>\n",
       "      <td>1924</td>\n",
       "      <td>Chamonix</td>\n",
       "      <td>Biathlon</td>\n",
       "      <td>Biathlon</td>\n",
       "      <td>AUFDENBLATTEN, Adolf</td>\n",
       "      <td>SUI</td>\n",
       "      <td>Men</td>\n",
       "      <td>Military Patrol</td>\n",
       "      <td>Gold</td>\n",
       "    </tr>\n",
       "  </tbody>\n",
       "</table>\n",
       "</div>"
      ],
      "text/plain": [
       "   Year      City     Sport Discipline               Athlete Country Gender  \\\n",
       "0  1924  Chamonix  Biathlon   Biathlon           BERTHET, G.     FRA    Men   \n",
       "1  1924  Chamonix  Biathlon   Biathlon        MANDRILLON, C.     FRA    Men   \n",
       "2  1924  Chamonix  Biathlon   Biathlon   MANDRILLON, Maurice     FRA    Men   \n",
       "3  1924  Chamonix  Biathlon   Biathlon       VANDELLE, André     FRA    Men   \n",
       "4  1924  Chamonix  Biathlon   Biathlon  AUFDENBLATTEN, Adolf     SUI    Men   \n",
       "\n",
       "             Event   Medal  \n",
       "0  Military Patrol  Bronze  \n",
       "1  Military Patrol  Bronze  \n",
       "2  Military Patrol  Bronze  \n",
       "3  Military Patrol  Bronze  \n",
       "4  Military Patrol    Gold  "
      ]
     },
     "execution_count": 20,
     "metadata": {},
     "output_type": "execute_result"
    }
   ],
   "source": [
    "winter.head()"
   ]
  },
  {
   "cell_type": "code",
   "execution_count": 21,
   "id": "f6ecbd96",
   "metadata": {},
   "outputs": [
    {
     "data": {
      "text/plain": [
       "<AxesSubplot:xlabel='Gender', ylabel='count'>"
      ]
     },
     "execution_count": 21,
     "metadata": {},
     "output_type": "execute_result"
    },
    {
     "data": {
      "image/png": "[encoded data removed]",
      "text/plain": [
       "<Figure size 432x288 with 1 Axes>"
      ]
     },
     "metadata": {
      "needs_background": "light"
     },
     "output_type": "display_data"
    }
   ],
   "source": [
    "sns.countplot(x='Gender',data=winter)"
   ]
  },
  {
   "cell_type": "code",
   "execution_count": 22,
   "id": "6992e20a",
   "metadata": {},
   "outputs": [
    {
     "data": {
      "text/plain": [
       "<AxesSubplot:xlabel='Gender', ylabel='count'>"
      ]
     },
     "execution_count": 22,
     "metadata": {},
     "output_type": "execute_result"
    },
    {
     "data": {
      "image/png": "[encoded data removed]",
      "text/plain": [
       "<Figure size 432x288 with 1 Axes>"
      ]
     },
     "metadata": {
      "needs_background": "light"
     },
     "output_type": "display_data"
    }
   ],
   "source": [
    "sns.countplot(x='Gender',data=summer)"
   ]
  },
  {
   "cell_type": "code",
   "execution_count": 23,
   "id": "32516ce8",
   "metadata": {},
   "outputs": [
    {
     "name": "stdout",
     "output_type": "stream",
     "text": [
      "<class 'pandas.core.frame.DataFrame'>\n",
      "RangeIndex: 5770 entries, 0 to 5769\n",
      "Data columns (total 9 columns):\n",
      " #   Column      Non-Null Count  Dtype \n",
      "---  ------      --------------  ----- \n",
      " 0   Year        5770 non-null   int64 \n",
      " 1   City        5770 non-null   object\n",
      " 2   Sport       5770 non-null   object\n",
      " 3   Discipline  5770 non-null   object\n",
      " 4   Athlete     5770 non-null   object\n",
      " 5   Country     5770 non-null   object\n",
      " 6   Gender      5770 non-null   object\n",
      " 7   Event       5770 non-null   object\n",
      " 8   Medal       5770 non-null   object\n",
      "dtypes: int64(1), object(8)\n",
      "memory usage: 405.8+ KB\n"
     ]
    }
   ],
   "source": [
    "winter.info()"
   ]
  },
  {
   "cell_type": "code",
   "execution_count": 24,
   "id": "38328891",
   "metadata": {},
   "outputs": [
    {
     "name": "stdout",
     "output_type": "stream",
     "text": [
      "<class 'pandas.core.frame.DataFrame'>\n",
      "RangeIndex: 31165 entries, 0 to 31164\n",
      "Data columns (total 9 columns):\n",
      " #   Column      Non-Null Count  Dtype \n",
      "---  ------      --------------  ----- \n",
      " 0   Year        31165 non-null  int64 \n",
      " 1   City        31165 non-null  object\n",
      " 2   Sport       31165 non-null  object\n",
      " 3   Discipline  31165 non-null  object\n",
      " 4   Athlete     31165 non-null  object\n",
      " 5   Country     31161 non-null  object\n",
      " 6   Gender      31165 non-null  object\n",
      " 7   Event       31165 non-null  object\n",
      " 8   Medal       31165 non-null  object\n",
      "dtypes: int64(1), object(8)\n",
      "memory usage: 2.1+ MB\n"
     ]
    }
   ],
   "source": [
    "summer.info()"
   ]
  },
  {
   "cell_type": "code",
   "execution_count": 25,
   "id": "b88fb828",
   "metadata": {},
   "outputs": [],
   "source": [
    "total=pd.concat([winter,summer])"
   ]
  },
  {
   "cell_type": "code",
   "execution_count": 26,
   "id": "e56ef4de",
   "metadata": {},
   "outputs": [
    {
     "data": {
      "text/html": [
       "<div>\n",
       "<style scoped>\n",
       "    .dataframe tbody tr th:only-of-type {\n",
       "        vertical-align: middle;\n",
       "    }\n",
       "\n",
       "    .dataframe tbody tr th {\n",
       "        vertical-align: top;\n",
       "    }\n",
       "\n",
       "    .dataframe thead th {\n",
       "        text-align: right;\n",
       "    }\n",
       "</style>\n",
       "<table border=\"1\" class=\"dataframe\">\n",
       "  <thead>\n",
       "    <tr style=\"text-align: right;\">\n",
       "      <th></th>\n",
       "      <th>Year</th>\n",
       "      <th>City</th>\n",
       "      <th>Sport</th>\n",
       "      <th>Discipline</th>\n",
       "      <th>Athlete</th>\n",
       "      <th>Country</th>\n",
       "      <th>Gender</th>\n",
       "      <th>Event</th>\n",
       "      <th>Medal</th>\n",
       "    </tr>\n",
       "  </thead>\n",
       "  <tbody>\n",
       "    <tr>\n",
       "      <th>0</th>\n",
       "      <td>1924</td>\n",
       "      <td>Chamonix</td>\n",
       "      <td>Biathlon</td>\n",
       "      <td>Biathlon</td>\n",
       "      <td>BERTHET, G.</td>\n",
       "      <td>FRA</td>\n",
       "      <td>Men</td>\n",
       "      <td>Military Patrol</td>\n",
       "      <td>Bronze</td>\n",
       "    </tr>\n",
       "    <tr>\n",
       "      <th>1</th>\n",
       "      <td>1924</td>\n",
       "      <td>Chamonix</td>\n",
       "      <td>Biathlon</td>\n",
       "      <td>Biathlon</td>\n",
       "      <td>MANDRILLON, C.</td>\n",
       "      <td>FRA</td>\n",
       "      <td>Men</td>\n",
       "      <td>Military Patrol</td>\n",
       "      <td>Bronze</td>\n",
       "    </tr>\n",
       "    <tr>\n",
       "      <th>2</th>\n",
       "      <td>1924</td>\n",
       "      <td>Chamonix</td>\n",
       "      <td>Biathlon</td>\n",
       "      <td>Biathlon</td>\n",
       "      <td>MANDRILLON, Maurice</td>\n",
       "      <td>FRA</td>\n",
       "      <td>Men</td>\n",
       "      <td>Military Patrol</td>\n",
       "      <td>Bronze</td>\n",
       "    </tr>\n",
       "    <tr>\n",
       "      <th>3</th>\n",
       "      <td>1924</td>\n",
       "      <td>Chamonix</td>\n",
       "      <td>Biathlon</td>\n",
       "      <td>Biathlon</td>\n",
       "      <td>VANDELLE, André</td>\n",
       "      <td>FRA</td>\n",
       "      <td>Men</td>\n",
       "      <td>Military Patrol</td>\n",
       "      <td>Bronze</td>\n",
       "    </tr>\n",
       "    <tr>\n",
       "      <th>4</th>\n",
       "      <td>1924</td>\n",
       "      <td>Chamonix</td>\n",
       "      <td>Biathlon</td>\n",
       "      <td>Biathlon</td>\n",
       "      <td>AUFDENBLATTEN, Adolf</td>\n",
       "      <td>SUI</td>\n",
       "      <td>Men</td>\n",
       "      <td>Military Patrol</td>\n",
       "      <td>Gold</td>\n",
       "    </tr>\n",
       "    <tr>\n",
       "      <th>...</th>\n",
       "      <td>...</td>\n",
       "      <td>...</td>\n",
       "      <td>...</td>\n",
       "      <td>...</td>\n",
       "      <td>...</td>\n",
       "      <td>...</td>\n",
       "      <td>...</td>\n",
       "      <td>...</td>\n",
       "      <td>...</td>\n",
       "    </tr>\n",
       "    <tr>\n",
       "      <th>31160</th>\n",
       "      <td>2012</td>\n",
       "      <td>London</td>\n",
       "      <td>Wrestling</td>\n",
       "      <td>Wrestling Freestyle</td>\n",
       "      <td>JANIKOWSKI, Damian</td>\n",
       "      <td>POL</td>\n",
       "      <td>Men</td>\n",
       "      <td>Wg 84 KG</td>\n",
       "      <td>Bronze</td>\n",
       "    </tr>\n",
       "    <tr>\n",
       "      <th>31161</th>\n",
       "      <td>2012</td>\n",
       "      <td>London</td>\n",
       "      <td>Wrestling</td>\n",
       "      <td>Wrestling Freestyle</td>\n",
       "      <td>REZAEI, Ghasem Gholamreza</td>\n",
       "      <td>IRI</td>\n",
       "      <td>Men</td>\n",
       "      <td>Wg 96 KG</td>\n",
       "      <td>Gold</td>\n",
       "    </tr>\n",
       "    <tr>\n",
       "      <th>31162</th>\n",
       "      <td>2012</td>\n",
       "      <td>London</td>\n",
       "      <td>Wrestling</td>\n",
       "      <td>Wrestling Freestyle</td>\n",
       "      <td>TOTROV, Rustam</td>\n",
       "      <td>RUS</td>\n",
       "      <td>Men</td>\n",
       "      <td>Wg 96 KG</td>\n",
       "      <td>Silver</td>\n",
       "    </tr>\n",
       "    <tr>\n",
       "      <th>31163</th>\n",
       "      <td>2012</td>\n",
       "      <td>London</td>\n",
       "      <td>Wrestling</td>\n",
       "      <td>Wrestling Freestyle</td>\n",
       "      <td>ALEKSANYAN, Artur</td>\n",
       "      <td>ARM</td>\n",
       "      <td>Men</td>\n",
       "      <td>Wg 96 KG</td>\n",
       "      <td>Bronze</td>\n",
       "    </tr>\n",
       "    <tr>\n",
       "      <th>31164</th>\n",
       "      <td>2012</td>\n",
       "      <td>London</td>\n",
       "      <td>Wrestling</td>\n",
       "      <td>Wrestling Freestyle</td>\n",
       "      <td>LIDBERG, Jimmy</td>\n",
       "      <td>SWE</td>\n",
       "      <td>Men</td>\n",
       "      <td>Wg 96 KG</td>\n",
       "      <td>Bronze</td>\n",
       "    </tr>\n",
       "  </tbody>\n",
       "</table>\n",
       "<p>36935 rows × 9 columns</p>\n",
       "</div>"
      ],
      "text/plain": [
       "       Year      City      Sport           Discipline  \\\n",
       "0      1924  Chamonix   Biathlon             Biathlon   \n",
       "1      1924  Chamonix   Biathlon             Biathlon   \n",
       "2      1924  Chamonix   Biathlon             Biathlon   \n",
       "3      1924  Chamonix   Biathlon             Biathlon   \n",
       "4      1924  Chamonix   Biathlon             Biathlon   \n",
       "...     ...       ...        ...                  ...   \n",
       "31160  2012    London  Wrestling  Wrestling Freestyle   \n",
       "31161  2012    London  Wrestling  Wrestling Freestyle   \n",
       "31162  2012    London  Wrestling  Wrestling Freestyle   \n",
       "31163  2012    London  Wrestling  Wrestling Freestyle   \n",
       "31164  2012    London  Wrestling  Wrestling Freestyle   \n",
       "\n",
       "                         Athlete Country Gender            Event   Medal  \n",
       "0                    BERTHET, G.     FRA    Men  Military Patrol  Bronze  \n",
       "1                 MANDRILLON, C.     FRA    Men  Military Patrol  Bronze  \n",
       "2            MANDRILLON, Maurice     FRA    Men  Military Patrol  Bronze  \n",
       "3                VANDELLE, André     FRA    Men  Military Patrol  Bronze  \n",
       "4           AUFDENBLATTEN, Adolf     SUI    Men  Military Patrol    Gold  \n",
       "...                          ...     ...    ...              ...     ...  \n",
       "31160         JANIKOWSKI, Damian     POL    Men         Wg 84 KG  Bronze  \n",
       "31161  REZAEI, Ghasem Gholamreza     IRI    Men         Wg 96 KG    Gold  \n",
       "31162             TOTROV, Rustam     RUS    Men         Wg 96 KG  Silver  \n",
       "31163          ALEKSANYAN, Artur     ARM    Men         Wg 96 KG  Bronze  \n",
       "31164             LIDBERG, Jimmy     SWE    Men         Wg 96 KG  Bronze  \n",
       "\n",
       "[36935 rows x 9 columns]"
      ]
     },
     "execution_count": 26,
     "metadata": {},
     "output_type": "execute_result"
    }
   ],
   "source": [
    "#I merged the Winter and Summer Olympics charts, which was easy given they had the same column names\n",
    "total"
   ]
  },
  {
   "cell_type": "code",
   "execution_count": 27,
   "id": "f13428ab",
   "metadata": {},
   "outputs": [
    {
     "data": {
      "text/plain": [
       "USA    5238\n",
       "URS    2489\n",
       "GBR    1799\n",
       "GER    1665\n",
       "FRA    1548\n",
       "       ... \n",
       "DJI       1\n",
       "SEN       1\n",
       "BER       1\n",
       "CIV       1\n",
       "GAB       1\n",
       "Name: Country, Length: 148, dtype: int64"
      ]
     },
     "execution_count": 27,
     "metadata": {},
     "output_type": "execute_result"
    }
   ],
   "source": [
    "#As you can see, the USA has the most participants in both the Winter and Summer Olympics\n",
    "total['Country'].value_counts()"
   ]
  },
  {
   "cell_type": "code",
   "execution_count": 28,
   "id": "446976a7",
   "metadata": {},
   "outputs": [
    {
     "data": {
      "text/plain": [
       "Aquatics             4170\n",
       "Athletics            3638\n",
       "Rowing               2667\n",
       "Gymnastics           2307\n",
       "Skiing               1781\n",
       "Fencing              1613\n",
       "Ice Hockey           1563\n",
       "Football             1497\n",
       "Hockey               1422\n",
       "Skating              1256\n",
       "Wrestling            1212\n",
       "Shooting             1150\n",
       "Sailing              1109\n",
       "Cycling              1105\n",
       "Basketball           1012\n",
       "Canoe / Kayak        1002\n",
       "Volleyball            994\n",
       "Handball              973\n",
       "Equestrian            939\n",
       "Boxing                894\n",
       "Weightlifting         593\n",
       "Judo                  491\n",
       "Bobsleigh             452\n",
       "Biathlon              420\n",
       "Baseball              335\n",
       "Archery               329\n",
       "Tennis                296\n",
       "Rugby                 192\n",
       "Softball              180\n",
       "Luge                  180\n",
       "Modern Pentathlon     180\n",
       "Curling               172\n",
       "Badminton             144\n",
       "Table Tennis          144\n",
       "Taekwondo             112\n",
       "Tug of War             94\n",
       "Canoe                  81\n",
       "Polo                   66\n",
       "Lacrosse               59\n",
       "Golf                   30\n",
       "Cricket                24\n",
       "Triathlon              24\n",
       "Rackets                10\n",
       "Croquet                 8\n",
       "Water Motorsports       5\n",
       "Basque Pelota           4\n",
       "Jeu de paume            3\n",
       "Roque                   3\n",
       "Name: Sport, dtype: int64"
      ]
     },
     "execution_count": 28,
     "metadata": {},
     "output_type": "execute_result"
    }
   ],
   "source": [
    "#Aquatics has had the most Olympians since 1924, followed by Athletics and Rowing.\n",
    "total['Sport'].value_counts()"
   ]
  },
  {
   "cell_type": "code",
   "execution_count": 29,
   "id": "94debd04",
   "metadata": {},
   "outputs": [
    {
     "data": {
      "text/plain": [
       "Discipline       Sport            \n",
       "Athletics        Athletics            3638\n",
       "Rowing           Rowing               2667\n",
       "Swimming         Aquatics             2628\n",
       "Artistic G.      Gymnastics           2103\n",
       "Fencing          Fencing              1613\n",
       "                                      ... \n",
       "Cycling BMX      Cycling                 6\n",
       "Water Motorspor  Water Motorsports       5\n",
       "Basque Pelota    Basque Pelota           4\n",
       "Jeu de Paume     Jeu de paume            3\n",
       "Roque            Roque                   3\n",
       "Length: 80, dtype: int64"
      ]
     },
     "execution_count": 29,
     "metadata": {},
     "output_type": "execute_result"
    }
   ],
   "source": [
    "total.value_counts(['Discipline', 'Sport'])\n",
    "#87.2% of all medals are from the Athletics segment. "
   ]
  },
  {
   "cell_type": "code",
   "execution_count": 30,
   "id": "435a46cd",
   "metadata": {
    "scrolled": false
   },
   "outputs": [
    {
     "data": {
      "text/plain": [
       "Country  Sport        \n",
       "USA      Aquatics         1184\n",
       "         Athletics         994\n",
       "AUS      Aquatics          400\n",
       "USA      Rowing            364\n",
       "CAN      Ice Hockey        359\n",
       "                          ... \n",
       "JPN      Equestrian          1\n",
       "JAM      Cycling             1\n",
       "ITA      Tennis              1\n",
       "TGA      Boxing              1\n",
       "IND      Weightlifting       1\n",
       "Length: 1222, dtype: int64"
      ]
     },
     "execution_count": 30,
     "metadata": {},
     "output_type": "execute_result"
    }
   ],
   "source": [
    "#As you can see, USA has the most medals in Aquatics, followed by Athletics, followed by Austria in Aquatics.\n",
    "#Canada makes an appearance, winning 359 medals in Ice Hockey.\n",
    "#To put it in perspective, USA has more than 3x the amount of medals in Aquatics than Canada has in Ice Hockey.\n",
    "total.value_counts(['Country', 'Sport'])"
   ]
  },
  {
   "cell_type": "code",
   "execution_count": 31,
   "id": "d813cf8a",
   "metadata": {
    "scrolled": true
   },
   "outputs": [
    {
     "data": {
      "text/plain": [
       "Athlete               Sport     \n",
       "PHELPS, Michael       Aquatics      22\n",
       "LATYNINA, Larisa      Gymnastics    18\n",
       "ANDRIANOV, Nikolay    Gymnastics    15\n",
       "MANGIAROTTI, Edoardo  Fencing       13\n",
       "ONO, Takashi          Gymnastics    13\n",
       "                                    ..\n",
       "IHLE, Andreas         Canoe          1\n",
       "IHBE, Ernst           Cycling        1\n",
       "IHASZ, Kalman         Football       1\n",
       "IHALAINEN, Marianne   Ice Hockey     1\n",
       "ÖSTRAND, Per-Olof     Aquatics       1\n",
       "Length: 26635, dtype: int64"
      ]
     },
     "execution_count": 31,
     "metadata": {},
     "output_type": "execute_result"
    }
   ],
   "source": [
    "#Michael Phelps has the most medals all time with 22. \n",
    "total.value_counts(['Athlete', 'Sport'])"
   ]
  },
  {
   "cell_type": "code",
   "execution_count": 34,
   "id": "a882c1f0",
   "metadata": {},
   "outputs": [
    {
     "name": "stdout",
     "output_type": "stream",
     "text": [
      "<class 'pandas.core.frame.DataFrame'>\n",
      "Int64Index: 36935 entries, 0 to 31164\n",
      "Data columns (total 9 columns):\n",
      " #   Column      Non-Null Count  Dtype \n",
      "---  ------      --------------  ----- \n",
      " 0   Year        36935 non-null  int64 \n",
      " 1   City        36935 non-null  object\n",
      " 2   Sport       36935 non-null  object\n",
      " 3   Discipline  36935 non-null  object\n",
      " 4   Athlete     36935 non-null  object\n",
      " 5   Country     36931 non-null  object\n",
      " 6   Gender      36935 non-null  object\n",
      " 7   Event       36935 non-null  object\n",
      " 8   Medal       36935 non-null  object\n",
      "dtypes: int64(1), object(8)\n",
      "memory usage: 2.8+ MB\n"
     ]
    }
   ],
   "source": [
    "total.info()"
   ]
  },
  {
   "cell_type": "code",
   "execution_count": 46,
   "id": "25a56b82",
   "metadata": {},
   "outputs": [
    {
     "data": {
      "text/plain": [
       "{2: 'Gold', 1: 'Silver', 0: 'Bronze'}"
      ]
     },
     "execution_count": 46,
     "metadata": {},
     "output_type": "execute_result"
    }
   ],
   "source": [
    "dmap"
   ]
  },
  {
   "cell_type": "code",
   "execution_count": null,
   "id": "ab3ff3a0",
   "metadata": {},
   "outputs": [],
   "source": []
  },
  {
   "cell_type": "code",
   "execution_count": null,
   "id": "0726aa8d",
   "metadata": {},
   "outputs": [],
   "source": []
  }
 ],
 "metadata": {
  "kernelspec": {
   "display_name": "Python 3 (ipykernel)",
   "language": "python",
   "name": "python3"
  },
  "language_info": {
   "codemirror_mode": {
    "name": "ipython",
    "version": 3
   },
   "file_extension": ".py",
   "mimetype": "text/x-python",
   "name": "python",
   "nbconvert_exporter": "python",
   "pygments_lexer": "ipython3",
   "version": "3.11.1"
  }
 },
 "nbformat": 4,
 "nbformat_minor": 5
}
