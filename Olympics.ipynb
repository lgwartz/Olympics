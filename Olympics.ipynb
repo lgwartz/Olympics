{
 "cells": [
  {
   "cell_type": "markdown",
   "id": "83ec5a91",
   "metadata": {},
   "source": [
    "# Olympics"
   ]
  },
  {
   "cell_type": "code",
   "execution_count": 1,
   "id": "c1a22044",
   "metadata": {},
   "outputs": [],
   "source": [
    "import pandas as pd\n",
    "import numpy as np\n",
    "import seaborn as sns\n",
    "import matplotlib.pyplot as plp\n",
    "%matplotlib inline"
   ]
  },
  {
   "cell_type": "code",
   "execution_count": 2,
   "id": "168022f4",
   "metadata": {},
   "outputs": [],
   "source": [
    "winter = pd.read_csv('winter.csv')\n",
    "summer = pd.read_csv('summer.csv')"
   ]
  },
  {
   "cell_type": "code",
   "execution_count": 3,
   "id": "5b41d0bc",
   "metadata": {},
   "outputs": [
    {
     "data": {
      "text/html": [
       "<div>\n",
       "<style scoped>\n",
       "    .dataframe tbody tr th:only-of-type {\n",
       "        vertical-align: middle;\n",
       "    }\n",
       "\n",
       "    .dataframe tbody tr th {\n",
       "        vertical-align: top;\n",
       "    }\n",
       "\n",
       "    .dataframe thead th {\n",
       "        text-align: right;\n",
       "    }\n",
       "</style>\n",
       "<table border=\"1\" class=\"dataframe\">\n",
       "  <thead>\n",
       "    <tr style=\"text-align: right;\">\n",
       "      <th></th>\n",
       "      <th>Year</th>\n",
       "      <th>City</th>\n",
       "      <th>Sport</th>\n",
       "      <th>Discipline</th>\n",
       "      <th>Athlete</th>\n",
       "      <th>Country</th>\n",
       "      <th>Gender</th>\n",
       "      <th>Event</th>\n",
       "      <th>Medal</th>\n",
       "    </tr>\n",
       "  </thead>\n",
       "  <tbody>\n",
       "    <tr>\n",
       "      <th>0</th>\n",
       "      <td>1924</td>\n",
       "      <td>Chamonix</td>\n",
       "      <td>Biathlon</td>\n",
       "      <td>Biathlon</td>\n",
       "      <td>BERTHET, G.</td>\n",
       "      <td>FRA</td>\n",
       "      <td>Men</td>\n",
       "      <td>Military Patrol</td>\n",
       "      <td>Bronze</td>\n",
       "    </tr>\n",
       "    <tr>\n",
       "      <th>1</th>\n",
       "      <td>1924</td>\n",
       "      <td>Chamonix</td>\n",
       "      <td>Biathlon</td>\n",
       "      <td>Biathlon</td>\n",
       "      <td>MANDRILLON, C.</td>\n",
       "      <td>FRA</td>\n",
       "      <td>Men</td>\n",
       "      <td>Military Patrol</td>\n",
       "      <td>Bronze</td>\n",
       "    </tr>\n",
       "    <tr>\n",
       "      <th>2</th>\n",
       "      <td>1924</td>\n",
       "      <td>Chamonix</td>\n",
       "      <td>Biathlon</td>\n",
       "      <td>Biathlon</td>\n",
       "      <td>MANDRILLON, Maurice</td>\n",
       "      <td>FRA</td>\n",
       "      <td>Men</td>\n",
       "      <td>Military Patrol</td>\n",
       "      <td>Bronze</td>\n",
       "    </tr>\n",
       "    <tr>\n",
       "      <th>3</th>\n",
       "      <td>1924</td>\n",
       "      <td>Chamonix</td>\n",
       "      <td>Biathlon</td>\n",
       "      <td>Biathlon</td>\n",
       "      <td>VANDELLE, André</td>\n",
       "      <td>FRA</td>\n",
       "      <td>Men</td>\n",
       "      <td>Military Patrol</td>\n",
       "      <td>Bronze</td>\n",
       "    </tr>\n",
       "    <tr>\n",
       "      <th>4</th>\n",
       "      <td>1924</td>\n",
       "      <td>Chamonix</td>\n",
       "      <td>Biathlon</td>\n",
       "      <td>Biathlon</td>\n",
       "      <td>AUFDENBLATTEN, Adolf</td>\n",
       "      <td>SUI</td>\n",
       "      <td>Men</td>\n",
       "      <td>Military Patrol</td>\n",
       "      <td>Gold</td>\n",
       "    </tr>\n",
       "  </tbody>\n",
       "</table>\n",
       "</div>"
      ],
      "text/plain": [
       "   Year      City     Sport Discipline               Athlete Country Gender  \\\n",
       "0  1924  Chamonix  Biathlon   Biathlon           BERTHET, G.     FRA    Men   \n",
       "1  1924  Chamonix  Biathlon   Biathlon        MANDRILLON, C.     FRA    Men   \n",
       "2  1924  Chamonix  Biathlon   Biathlon   MANDRILLON, Maurice     FRA    Men   \n",
       "3  1924  Chamonix  Biathlon   Biathlon       VANDELLE, André     FRA    Men   \n",
       "4  1924  Chamonix  Biathlon   Biathlon  AUFDENBLATTEN, Adolf     SUI    Men   \n",
       "\n",
       "             Event   Medal  \n",
       "0  Military Patrol  Bronze  \n",
       "1  Military Patrol  Bronze  \n",
       "2  Military Patrol  Bronze  \n",
       "3  Military Patrol  Bronze  \n",
       "4  Military Patrol    Gold  "
      ]
     },
     "execution_count": 3,
     "metadata": {},
     "output_type": "execute_result"
    }
   ],
   "source": [
    "winter.head()"
   ]
  },
  {
   "cell_type": "markdown",
   "id": "094bd097",
   "metadata": {},
   "source": [
    "# Analyzing Olympics Data "
   ]
  },
  {
   "cell_type": "code",
   "execution_count": 4,
   "id": "f6ecbd96",
   "metadata": {},
   "outputs": [
    {
     "data": {
      "text/plain": [
       "<AxesSubplot:xlabel='Gender', ylabel='count'>"
      ]
     },
     "execution_count": 4,
     "metadata": {},
     "output_type": "execute_result"
    },
    {
     "data": {
      "image/png": "[encoded data removed]",
      "text/plain": [
       "<Figure size 640x480 with 1 Axes>"
      ]
     },
     "metadata": {},
     "output_type": "display_data"
    }
   ],
   "source": [
    "sns.countplot(x='Gender',data=winter)"
   ]
  },
  {
   "cell_type": "code",
   "execution_count": 5,
   "id": "6992e20a",
   "metadata": {},
   "outputs": [
    {
     "data": {
      "text/plain": [
       "<AxesSubplot:xlabel='Gender', ylabel='count'>"
      ]
     },
     "execution_count": 5,
     "metadata": {},
     "output_type": "execute_result"
    },
    {
     "data": {
      "image/png": "[encoded data removed]",
      "text/plain": [
       "<Figure size 640x480 with 1 Axes>"
      ]
     },
     "metadata": {},
     "output_type": "display_data"
    }
   ],
   "source": [
    "sns.countplot(x='Gender',data=summer)"
   ]
  },
  {
   "cell_type": "code",
   "execution_count": 6,
   "id": "32516ce8",
   "metadata": {},
   "outputs": [
    {
     "name": "stdout",
     "output_type": "stream",
     "text": [
      "<class 'pandas.core.frame.DataFrame'>\n",
      "RangeIndex: 5770 entries, 0 to 5769\n",
      "Data columns (total 9 columns):\n",
      " #   Column      Non-Null Count  Dtype \n",
      "---  ------      --------------  ----- \n",
      " 0   Year        5770 non-null   int64 \n",
      " 1   City        5770 non-null   object\n",
      " 2   Sport       5770 non-null   object\n",
      " 3   Discipline  5770 non-null   object\n",
      " 4   Athlete     5770 non-null   object\n",
      " 5   Country     5770 non-null   object\n",
      " 6   Gender      5770 non-null   object\n",
      " 7   Event       5770 non-null   object\n",
      " 8   Medal       5770 non-null   object\n",
      "dtypes: int64(1), object(8)\n",
      "memory usage: 405.8+ KB\n"
     ]
    }
   ],
   "source": [
    "winter.info()"
   ]
  },
  {
   "cell_type": "code",
   "execution_count": 7,
   "id": "38328891",
   "metadata": {},
   "outputs": [
    {
     "name": "stdout",
     "output_type": "stream",
     "text": [
      "<class 'pandas.core.frame.DataFrame'>\n",
      "RangeIndex: 31165 entries, 0 to 31164\n",
      "Data columns (total 9 columns):\n",
      " #   Column      Non-Null Count  Dtype \n",
      "---  ------      --------------  ----- \n",
      " 0   Year        31165 non-null  int64 \n",
      " 1   City        31165 non-null  object\n",
      " 2   Sport       31165 non-null  object\n",
      " 3   Discipline  31165 non-null  object\n",
      " 4   Athlete     31165 non-null  object\n",
      " 5   Country     31161 non-null  object\n",
      " 6   Gender      31165 non-null  object\n",
      " 7   Event       31165 non-null  object\n",
      " 8   Medal       31165 non-null  object\n",
      "dtypes: int64(1), object(8)\n",
      "memory usage: 2.1+ MB\n"
     ]
    }
   ],
   "source": [
    "summer.info()"
   ]
  },
  {
   "cell_type": "code",
   "execution_count": 8,
   "id": "b88fb828",
   "metadata": {},
   "outputs": [],
   "source": [
    "total=pd.concat([winter,summer])"
   ]
  },
  {
   "cell_type": "markdown",
   "id": "1cc55643",
   "metadata": {},
   "source": [
    "I merged the Winter and Summer Olympics charts, which was easy given they had the same column names."
   ]
  },
  {
   "cell_type": "code",
   "execution_count": 9,
   "id": "f13428ab",
   "metadata": {},
   "outputs": [
    {
     "data": {
      "text/plain": [
       "USA    5238\n",
       "URS    2489\n",
       "GBR    1799\n",
       "GER    1665\n",
       "FRA    1548\n",
       "       ... \n",
       "DJI       1\n",
       "SEN       1\n",
       "BER       1\n",
       "CIV       1\n",
       "GAB       1\n",
       "Name: Country, Length: 148, dtype: int64"
      ]
     },
     "execution_count": 9,
     "metadata": {},
     "output_type": "execute_result"
    }
   ],
   "source": [
    "total['Country'].value_counts()"
   ]
  },
  {
   "cell_type": "markdown",
   "id": "c7b228f7",
   "metadata": {},
   "source": [
    "As you can see, the USA has the most participants in both the Winter and Summer Olympics."
   ]
  },
  {
   "cell_type": "code",
   "execution_count": 10,
   "id": "446976a7",
   "metadata": {},
   "outputs": [
    {
     "data": {
      "text/plain": [
       "Aquatics             4170\n",
       "Athletics            3638\n",
       "Rowing               2667\n",
       "Gymnastics           2307\n",
       "Skiing               1781\n",
       "Fencing              1613\n",
       "Ice Hockey           1563\n",
       "Football             1497\n",
       "Hockey               1422\n",
       "Skating              1256\n",
       "Wrestling            1212\n",
       "Shooting             1150\n",
       "Sailing              1109\n",
       "Cycling              1105\n",
       "Basketball           1012\n",
       "Canoe / Kayak        1002\n",
       "Volleyball            994\n",
       "Handball              973\n",
       "Equestrian            939\n",
       "Boxing                894\n",
       "Weightlifting         593\n",
       "Judo                  491\n",
       "Bobsleigh             452\n",
       "Biathlon              420\n",
       "Baseball              335\n",
       "Archery               329\n",
       "Tennis                296\n",
       "Rugby                 192\n",
       "Softball              180\n",
       "Luge                  180\n",
       "Modern Pentathlon     180\n",
       "Curling               172\n",
       "Badminton             144\n",
       "Table Tennis          144\n",
       "Taekwondo             112\n",
       "Tug of War             94\n",
       "Canoe                  81\n",
       "Polo                   66\n",
       "Lacrosse               59\n",
       "Golf                   30\n",
       "Cricket                24\n",
       "Triathlon              24\n",
       "Rackets                10\n",
       "Croquet                 8\n",
       "Water Motorsports       5\n",
       "Basque Pelota           4\n",
       "Jeu de paume            3\n",
       "Roque                   3\n",
       "Name: Sport, dtype: int64"
      ]
     },
     "execution_count": 10,
     "metadata": {},
     "output_type": "execute_result"
    }
   ],
   "source": [
    "total['Sport'].value_counts()"
   ]
  },
  {
   "cell_type": "markdown",
   "id": "2f1fd224",
   "metadata": {},
   "source": [
    "Aquatics has had the most Olympians since 1924, followed by Athletics and Rowing."
   ]
  },
  {
   "cell_type": "code",
   "execution_count": 11,
   "id": "94debd04",
   "metadata": {},
   "outputs": [
    {
     "data": {
      "text/plain": [
       "Discipline       Sport            \n",
       "Athletics        Athletics            3638\n",
       "Rowing           Rowing               2667\n",
       "Swimming         Aquatics             2628\n",
       "Artistic G.      Gymnastics           2103\n",
       "Fencing          Fencing              1613\n",
       "                                      ... \n",
       "Cycling BMX      Cycling                 6\n",
       "Water Motorspor  Water Motorsports       5\n",
       "Basque Pelota    Basque Pelota           4\n",
       "Jeu de Paume     Jeu de paume            3\n",
       "Roque            Roque                   3\n",
       "Length: 80, dtype: int64"
      ]
     },
     "execution_count": 11,
     "metadata": {},
     "output_type": "execute_result"
    }
   ],
   "source": [
    "total.value_counts(['Discipline', 'Sport'])"
   ]
  },
  {
   "cell_type": "markdown",
   "id": "927dd7b4",
   "metadata": {},
   "source": [
    "87.2% of all medals are from the Athletics segment."
   ]
  },
  {
   "cell_type": "code",
   "execution_count": 12,
   "id": "435a46cd",
   "metadata": {
    "scrolled": false
   },
   "outputs": [
    {
     "data": {
      "text/plain": [
       "Country  Sport        \n",
       "USA      Aquatics         1184\n",
       "         Athletics         994\n",
       "AUS      Aquatics          400\n",
       "USA      Rowing            364\n",
       "CAN      Ice Hockey        359\n",
       "                          ... \n",
       "JPN      Equestrian          1\n",
       "JAM      Cycling             1\n",
       "ITA      Tennis              1\n",
       "TGA      Boxing              1\n",
       "IND      Weightlifting       1\n",
       "Length: 1222, dtype: int64"
      ]
     },
     "execution_count": 12,
     "metadata": {},
     "output_type": "execute_result"
    }
   ],
   "source": [
    "total.value_counts(['Country', 'Sport'])"
   ]
  },
  {
   "cell_type": "markdown",
   "id": "ac77b186",
   "metadata": {},
   "source": [
    "As you can see, USA has the most medals in Aquatics, followed by Athletics, followed by Austria in Aquatics. \n",
    "Canada makes an appearance, winning 359 medals in Ice Hockey.\n",
    "To put it in perspective, USA has more than 3x the amount of medals in Aquatics than Canada has in Ice Hockey."
   ]
  },
  {
   "cell_type": "code",
   "execution_count": 13,
   "id": "d813cf8a",
   "metadata": {
    "scrolled": false
   },
   "outputs": [
    {
     "data": {
      "text/plain": [
       "Athlete               Sport     \n",
       "PHELPS, Michael       Aquatics      22\n",
       "LATYNINA, Larisa      Gymnastics    18\n",
       "ANDRIANOV, Nikolay    Gymnastics    15\n",
       "MANGIAROTTI, Edoardo  Fencing       13\n",
       "ONO, Takashi          Gymnastics    13\n",
       "                                    ..\n",
       "IHLE, Andreas         Canoe          1\n",
       "IHBE, Ernst           Cycling        1\n",
       "IHASZ, Kalman         Football       1\n",
       "IHALAINEN, Marianne   Ice Hockey     1\n",
       "ÖSTRAND, Per-Olof     Aquatics       1\n",
       "Length: 26635, dtype: int64"
      ]
     },
     "execution_count": 13,
     "metadata": {},
     "output_type": "execute_result"
    }
   ],
   "source": [
    "total.value_counts(['Athlete', 'Sport'])"
   ]
  },
  {
   "cell_type": "markdown",
   "id": "b9247abd",
   "metadata": {},
   "source": [
    "Michael Phelps has the most medals all time with 22.\n"
   ]
  }
 ],
 "metadata": {
  "kernelspec": {
   "display_name": "Python 3 (ipykernel)",
   "language": "python",
   "name": "python3"
  },
  "language_info": {
   "codemirror_mode": {
    "name": "ipython",
    "version": 3
   },
   "file_extension": ".py",
   "mimetype": "text/x-python",
   "name": "python",
   "nbconvert_exporter": "python",
   "pygments_lexer": "ipython3",
   "version": "3.9.13"
  }
 },
 "nbformat": 4,
 "nbformat_minor": 5
}
